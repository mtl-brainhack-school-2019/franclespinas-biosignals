{
 "cells": [
  {
   "cell_type": "code",
   "execution_count": 1,
   "metadata": {},
   "outputs": [],
   "source": [
    "import numpy as np\n",
    "import matplotlib.pyplot as plt\n",
    "import neurokit as nk\n",
    "import plotly.graph_objects as go\n",
    "#from ipywidgets import interactive, HBox, VBox\n",
    "import plotly.offline as py\n",
    "\n",
    "import pandas as pd"
   ]
  },
  {
   "cell_type": "code",
   "execution_count": null,
   "metadata": {},
   "outputs": [],
   "source": [
    "# Make figures a bit bigger\n",
    "%pylab inline\n",
    "pylab.rcParams['figure.figsize'] = (40.0, 30.0)  "
   ]
  },
  {
   "cell_type": "code",
   "execution_count": 2,
   "metadata": {},
   "outputs": [],
   "source": [
    "# Import data\n",
    "ecg_fmri=np.loadtxt('C:/Users/Sangfrois/Desktop/NeuroMod_tests/samples-data/ecg_ocean11.txt')\n",
    "ecg_clean=np.loadtxt('C:/Users/Sangfrois/Desktop/NeuroMod_tests/samples-data/ecg_ocean11_clean.txt')\n",
    "ecg_mock=np.loadtxt('C:/Users/Sangfrois/Desktop/NeuroMod_tests/mockExperiment/mockExp_sangfroisPart2.txt')"
   ]
  },
  {
   "cell_type": "code",
   "execution_count": 5,
   "metadata": {},
   "outputs": [],
   "source": [
    "ecg_fmri_preproc=nk.ecg_preprocess(ecg_fmri, sampling_rate=5000, filter_type=\"FIR\", filter_band=\"bandpass\",filter_frequency=[3, 17], filter_order=0.3, segmenter=\"pekkanen\")\n",
    "#ecg_mock_preproc=nk.ecg_preprocess(ecg_mock, sampling_rate=10000, filter_type=\"FIR\", filter_band=\"bandpass\", \n",
    "                                  # filter_frequency=[3, 17], filter_order=0.3, segmenter=\"pekkanen\")"
   ]
  },
  {
   "cell_type": "code",
   "execution_count": 6,
   "metadata": {},
   "outputs": [],
   "source": [
    "ecg_fmri_preproc['df'].keys() # raw and filtered signal\n",
    "\n",
    "ecg_target_df=ecg_fmri_preproc['ECG'] # extracted peaks and waveforms\n",
    "\n",
    "#ecg_target_mock_df=ecg_mock_preproc['ECG']\n",
    "\n",
    "rpeaks=ecg_target_df['R_Peaks']\n",
    "\n"
   ]
  },
  {
   "cell_type": "code",
   "execution_count": 7,
   "metadata": {
    "scrolled": true
   },
   "outputs": [],
   "source": [
    "cardiac_cycles_fmri=ecg_target_df['Cardiac_Cycles']\n"
   ]
  },
  {
   "cell_type": "markdown",
   "metadata": {},
   "source": [
    "## Visualization with dash-plotly"
   ]
  },
  {
   "cell_type": "code",
   "execution_count": 8,
   "metadata": {},
   "outputs": [],
   "source": [
    "import dash\n",
    "import dash_core_components as dcc\n",
    "import dash_html_components as html\n",
    "from dash.dependencies import Input, Output\n",
    "from jupyter_plotly_dash import JupyterDash\n"
   ]
  },
  {
   "cell_type": "code",
   "execution_count": 9,
   "metadata": {},
   "outputs": [
    {
     "data": {
      "text/html": [
       "<div>\n",
       "  <iframe src=\"/app/endpoints/dc514bac11574400b8ed184769feb7a0/\" width=800 height=600 frameborder=\"0\"></iframe>\n",
       "  <hr/><a href=\"/app/endpoints/dc514bac11574400b8ed184769feb7a0/\" target=\"_new\">Open in new window</a> for /app/endpoints/dc514bac11574400b8ed184769feb7a0/\n",
       "</div>"
      ],
      "text/plain": [
       "<jupyter_plotly_dash.dash_wrapper.JupyterDash at 0x264830b9198>"
      ]
     },
     "execution_count": 9,
     "metadata": {},
     "output_type": "execute_result"
    }
   ],
   "source": [
    "import pandas as pd\n",
    "import plotly.graph_objs as go\n",
    "\n",
    "\n",
    "app = JupyterDash(\"app2\")\n",
    "\n",
    "app.layout = html.Div([\n",
    "    dcc.Graph(id='graph-with-slider'),\n",
    "    dcc.Slider(\n",
    "        id='observation-slider',\n",
    "        min=0,\n",
    "        max=len(cardiac_cycles_fmri.columns),\n",
    "        value=5\n",
    "    )\n",
    "])\n",
    "\n",
    "#marks={str(observations): str(observations) for observations in cardiac_cycles.unique()\n",
    "\n",
    "@app.callback(\n",
    "    Output('graph-with-slider', 'figure'),\n",
    "    [Input('observation-slider', 'value')])\n",
    "def update_figure(selected_nb_observation):\n",
    "    #filtered_df = df[df.cardiac_cycles == selected_nb_observation\n",
    "    trace = go.Line(\n",
    "            x=list(np.linspace(0,2,len(cardiac_cycles_fmri))),\n",
    "            y=list(cardiac_cycles_fmri[:][selected_nb_observation]),\n",
    "            opacity=0.7,\n",
    "            name='cardiac-cycle-waveform'\n",
    "        )\n",
    "\n",
    "    fig = go.Figure(data=[trace])\n",
    "    fig.add_trace(go.Scatter(x=list(np.linspace(0,2,len(cardiac_cycles_fmri))),\n",
    "            y=list(np.average(cardiac_cycles_fmri[:].T[0:selected_nb_observation], axis=0)),\n",
    "                    mode='lines',\n",
    "                    name='average'))\n",
    "    #fig.add_trace(go.Scatter(x=list(np.linspace(0,2,len(cardiac_cycles_fmri))),\n",
    "     #       y=list(sem(cardiac_cycles_fmri[:].T[0:selected_nb_observation], axis=0)),\n",
    "      #              mode='lines',\n",
    "       #             name='sem'))\n",
    "    return fig \n",
    "        \n",
    "\n",
    "app"
   ]
  },
  {
   "cell_type": "code",
   "execution_count": 10,
   "metadata": {},
   "outputs": [
    {
     "data": {
      "text/html": [
       "<div>\n",
       "  <iframe src=\"/app/endpoints/80c06ca7365c424794188987b968990b/\" width=800 height=600 frameborder=\"0\"></iframe>\n",
       "  <hr/><a href=\"/app/endpoints/80c06ca7365c424794188987b968990b/\" target=\"_new\">Open in new window</a> for /app/endpoints/80c06ca7365c424794188987b968990b/\n",
       "</div>"
      ],
      "text/plain": [
       "<jupyter_plotly_dash.dash_wrapper.JupyterDash at 0x26484e80eb8>"
      ]
     },
     "execution_count": 10,
     "metadata": {},
     "output_type": "execute_result"
    }
   ],
   "source": [
    "import pandas as pd\n",
    "import plotly.graph_objs as go\n",
    "\n",
    "\n",
    "app = JupyterDash(\"app2\")\n",
    "\n",
    "app.layout = html.Div([\n",
    "    dcc.Graph(id='graph-with-slider'),\n",
    "    dcc.Slider(\n",
    "        id='observation-slider',\n",
    "        min=0,\n",
    "        max=len(cardiac_cycles_fmri.columns),\n",
    "        value=5\n",
    "    )\n",
    "])\n",
    "\n",
    "#marks={str(observations): str(observations) for observations in cardiac_cycles.unique()\n",
    "\n",
    "@app.callback(\n",
    "    Output('graph-with-slider', 'figure'),\n",
    "    [Input('observation-slider', 'value')])\n",
    "def update_figure(selected_nb_observation):\n",
    "    #filtered_df = df[df.cardiac_cycles == selected_nb_observation\n",
    "    trace = go.Line(\n",
    "            x=list(np.linspace(0,3000,len(cardiac_cycles_fmri))),\n",
    "            y=list(cardiac_cycles_fmri[:][selected_nb_observation]),\n",
    "            opacity=0.7,\n",
    "            name='cardiac-cycle-waveform'\n",
    "        )\n",
    "\n",
    "    fig = go.Figure(data=[trace])\n",
    "    fig.add_trace(go.Scatter(x=list(np.linspace(0,3000,len(cardiac_cycles_fmri))),\n",
    "            y=list(np.average(cardiac_cycles_fmri[:].T[0:selected_nb_observation], axis=0)),\n",
    "                    mode='lines',\n",
    "                    name='average cardiac cycle waveform'))\n",
    "    #fig.add_trace(go.Scatter(x=list(np.linspace(0,2,len(cardiac_cycles_fmri))),\n",
    "     #       y=list(sem(cardiac_cycles_fmri[:].T[0:selected_nb_observation], axis=0)),\n",
    "      #              mode='lines',\n",
    "       #             name='sem'))\n",
    "    return fig \n",
    "        \n",
    "\n",
    "app"
   ]
  },
  {
   "cell_type": "code",
   "execution_count": null,
   "metadata": {},
   "outputs": [],
   "source": [
    "import pandas as pd\n",
    "import plotly.graph_objs as go\n",
    "from scipy.stats import sem\n",
    "\n",
    "\n",
    "app = JupyterDash(\"app2\")\n",
    "\n",
    "app.layout = html.Div([\n",
    "    dcc.Graph(id='graph-with-slider'),\n",
    "    dcc.Slider(\n",
    "        id='observation-slider',\n",
    "        min=1,\n",
    "        max=len(cardiac_cycles_fmri.columns),\n",
    "        value=5\n",
    "    )\n",
    "])\n",
    "\n",
    "#marks={str(observations): str(observations) for observations in cardiac_cycles.unique()\n",
    "\n",
    "@app.callback(\n",
    "    Output('graph-with-slider', 'figure'),\n",
    "    [Input('observation-slider', 'value')])\n",
    "def update_figure(selected_nb_observation):\n",
    "    #filtered_df = df[df.cardiac_cycles == selected_nb_observation\n",
    "    trace = go.Line(\n",
    "            x=list(np.linspace(0,2,len(cardiac_cycles_fmri))),\n",
    "            y=list(sem(cardiac_cycles_fmri[:].T[0:selected_nb_observation], axis=0)),\n",
    "            opacity=0.7\n",
    "        )\n",
    "\n",
    "    fig = go.Figure(data=[trace])\n",
    "    \n",
    "    return fig \n",
    "        \n",
    "\n",
    "app"
   ]
  },
  {
   "cell_type": "code",
   "execution_count": null,
   "metadata": {},
   "outputs": [],
   "source": [
    "#for i in range len(cardiac_cycles_fmri)\n",
    "len(cardiac_cycles_fmri.columns)\n",
    "my_sort=np.sort(cardiac_cycles_fmri,axis=1)\n",
    "\n",
    "pd.DataFrame(my_sort)\n",
    "\n",
    "my_sort[[1,2,3]]\n",
    "#plt.plot(my_sort)"
   ]
  },
  {
   "cell_type": "code",
   "execution_count": null,
   "metadata": {},
   "outputs": [],
   "source": [
    "trace = go.Line(\n",
    "            x=list(np.linspace(0,2,len(cardiac_cycles_fmri))),\n",
    "            y=list(cardiac_cycles_fmri[:][1]),\n",
    "            opacity=0.7\n",
    "        )"
   ]
  },
  {
   "cell_type": "code",
   "execution_count": null,
   "metadata": {},
   "outputs": [],
   "source": [
    "traces = []\n",
    "for i in range(200):\n",
    "    traces.append(go.Line(\n",
    "            x=list(np.linspace(0,2,len(cardiac_cycles_fmri))),\n",
    "            y=list(cardiac_cycles_fmri[:][i]),\n",
    "            opacity=0.9\n",
    "        ))\n",
    "\n",
    "fig = go.Figure(data=traces)\n",
    "\n",
    "\n",
    "fig.show()"
   ]
  },
  {
   "cell_type": "code",
   "execution_count": null,
   "metadata": {},
   "outputs": [],
   "source": []
  }
 ],
 "metadata": {
  "kernelspec": {
   "display_name": "Python 3",
   "language": "python",
   "name": "python3"
  },
  "language_info": {
   "codemirror_mode": {
    "name": "ipython",
    "version": 3
   },
   "file_extension": ".py",
   "mimetype": "text/x-python",
   "name": "python",
   "nbconvert_exporter": "python",
   "pygments_lexer": "ipython3",
   "version": "3.7.3"
  }
 },
 "nbformat": 4,
 "nbformat_minor": 2
}
