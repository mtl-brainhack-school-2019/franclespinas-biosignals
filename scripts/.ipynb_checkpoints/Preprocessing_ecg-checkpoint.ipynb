{
 "cells": [
  {
   "cell_type": "markdown",
   "metadata": {},
   "source": [
    "# Denoising the ECG from fMRI gradients\n",
    "\n"
   ]
  },
  {
   "cell_type": "code",
   "execution_count": null,
   "metadata": {},
   "outputs": [],
   "source": [
    "#dependencies\n",
    "import numpy as np\n",
    "import pandas as pd\n",
    "import neurokit as nk\n",
    "import biosppy as bio\n",
    "import matplotlib.pyplot as plt\n",
    "import matplotlib.mlab as mlab\n",
    "import matplotlib.gridspec as gridspec\n",
    "import pickle "
   ]
  },
  {
   "cell_type": "code",
   "execution_count": null,
   "metadata": {},
   "outputs": [],
   "source": [
    "# Make figures a bit bigger\n",
    "%pylab inline\n",
    "pylab.rcParams['figure.figsize'] = (40.0, 30.0)  "
   ]
  },
  {
   "cell_type": "markdown",
   "metadata": {},
   "source": [
    "## Path to folder and subfolders\n",
    "This should follow TIER's protocol and valid according to BIDS.\n",
    "Reference to consider : https://bids-specification.readthedocs.io/en/stable/04-modality-specific-files/06-physiological-and-other-continous-recordings.html "
   ]
  },
  {
   "cell_type": "code",
   "execution_count": null,
   "metadata": {},
   "outputs": [],
   "source": [
    "#specify path to files\n",
    "dir_path = 'C:\\\\Users\\\\sangfrois\\\\Desktop\\\\Neuromod_tests\\\\'\n",
    "subject_path = 'sub-01\\\\'\n",
    "exp_path = 'ses-video001\\\\'"
   ]
  },
  {
   "cell_type": "markdown",
   "metadata": {},
   "source": [
    "## Read .acq files with Neurokit\n",
    "The author of neurokit built this function using bioread's repo (https://github.com/uwmadison-chm/bioread/tree/master/bioread) \n",
    "It supports data coming from BIOPAC instruments software v5.0 and older\n",
    "\n",
    "name of folder can be replaced by '*' \n",
    "\n",
    "Script can be found under the name bio_data.py in nk library\n"
   ]
  },
  {
   "cell_type": "code",
   "execution_count": null,
   "metadata": {},
   "outputs": [],
   "source": [
    "#read data - .head() returns the dataframe with dict keys as header\n",
    "\n",
    "Biosignals_dataFrame, sampling_rate = nk.read_acqknowledge(dir_path+subject_path+exp_path+'sub-01_ses-video001-ocean11.acq', return_sampling_rate=True)\n",
    "Biosignals_dataFrame.head()"
   ]
  },
  {
   "cell_type": "code",
   "execution_count": null,
   "metadata": {},
   "outputs": [],
   "source": [
    "# associate dict keys to variable names and get a sense of the content with .describe()\n",
    "ppg = Biosignals_dataFrame['PPG100C']\n",
    "ecg = Biosignals_dataFrame['ECG100C']\n",
    "rsp = Biosignals_dataFrame['Custom, HLT100C - A 6']\n",
    "ttl = Biosignals_dataFrame['TTL']\n",
    "eda = Biosignals_dataFrame['EDA100C']\n",
    "\n",
    "ttl.describe()\n",
    "\n",
    "# define threshold value for ttl channel that corresponds to when the scanner is running\n"
   ]
  },
  {
   "cell_type": "markdown",
   "metadata": {},
   "source": [
    "## Parse the data according to TTL channel\n",
    "\n",
    "* Block00 - Clean ECG segment - Keep signal untill scannerON, where TTL channel values reach threshold\n",
    "* Block01 - fMRI scannerON; 1st block of experiment \n",
    "* Blocknn - fMRI scannerON; nth block of experiment\n",
    "\n",
    "* Blocks of fMRI recordings should be ten minutes, if less : ignore and go to next segment\n",
    "* Ignore in-between segments"
   ]
  },
  {
   "cell_type": "code",
   "execution_count": null,
   "metadata": {},
   "outputs": [],
   "source": []
  },
  {
   "cell_type": "markdown",
   "metadata": {},
   "source": [
    "## Interference description :\n",
    "\n",
    "ECG signals recorded in fMRI are principally polluted by gradient artifacts related to the radio-frequency pulse and magnetism of scanner's bore. The Neuromod team implemented a Gradient-Echo multi-band sequence (i.e. multiple slices at a time). Simple maths :\n",
    "\n",
    "- 60-slices sequence with multi-band factor of 4 and 1,490s repetition time : 60/4 = 15 shots per TR. \n",
    "\n",
    "- Gradients per TR? 15/1490 = 10.067 Hz. So approximately 100ms separate adjacent gradients.\n",
    "\n",
    "Other sources of interference include : \n",
    "\n",
    "- Muscle contraction ; movement ; moving cables ; respiration-induced baseline fluctuations"
   ]
  },
  {
   "cell_type": "code",
   "execution_count": null,
   "metadata": {},
   "outputs": [],
   "source": []
  }
 ],
 "metadata": {
  "kernelspec": {
   "display_name": "Python 3",
   "language": "python",
   "name": "python3"
  },
  "language_info": {
   "codemirror_mode": {
    "name": "ipython",
    "version": 3
   },
   "file_extension": ".py",
   "mimetype": "text/x-python",
   "name": "python",
   "nbconvert_exporter": "python",
   "pygments_lexer": "ipython3",
   "version": "3.7.3"
  }
 },
 "nbformat": 4,
 "nbformat_minor": 2
}
